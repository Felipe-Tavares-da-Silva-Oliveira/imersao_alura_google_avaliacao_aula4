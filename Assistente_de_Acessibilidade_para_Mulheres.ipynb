{
  "nbformat": 4,
  "nbformat_minor": 0,
  "metadata": {
    "colab": {
      "provenance": [],
      "authorship_tag": "ABX9TyM2RiDyxI6sXsnW9cbF0+Ae",
      "include_colab_link": true
    },
    "kernelspec": {
      "name": "python3",
      "display_name": "Python 3"
    },
    "language_info": {
      "name": "python"
    }
  },
  "cells": [
    {
      "cell_type": "markdown",
      "metadata": {
        "id": "view-in-github",
        "colab_type": "text"
      },
      "source": [
        "<a href=\"https://colab.research.google.com/github/Felipe-Tavares-da-Silva-Oliveira/imersao_alura_google_avaliacao_aula4/blob/main/Assistente_de_Acessibilidade_para_Mulheres.ipynb\" target=\"_parent\"><img src=\"https://colab.research.google.com/assets/colab-badge.svg\" alt=\"Open In Colab\"/></a>"
      ]
    },
    {
      "cell_type": "markdown",
      "source": [
        "Instalando o SDK do Google - GEMINI"
      ],
      "metadata": {
        "id": "LN13aMPgLXHG"
      }
    },
    {
      "cell_type": "code",
      "execution_count": 37,
      "metadata": {
        "id": "fG8gBV-vW_op"
      },
      "outputs": [],
      "source": [
        "!pip install -q -U google-generativeai"
      ]
    },
    {
      "cell_type": "code",
      "source": [
        "import pathlib\n",
        "import textwrap\n",
        "\n",
        "import google.generativeai as genai\n",
        "\n",
        "from IPython.display import display\n",
        "from IPython.display import Markdown\n",
        "\n",
        "\n",
        "def to_markdown(text):\n",
        "  text = text.replace('•', '  *')\n",
        "  return Markdown(textwrap.indent(text, '> ', predicate=lambda _: True))"
      ],
      "metadata": {
        "id": "rJwYNQSvXVk8"
      },
      "execution_count": 38,
      "outputs": []
    },
    {
      "cell_type": "code",
      "source": [
        "# Used to securely store your API key\n",
        "from google.colab import userdata"
      ],
      "metadata": {
        "id": "oFilD2s-gqiP"
      },
      "execution_count": 39,
      "outputs": []
    },
    {
      "cell_type": "code",
      "source": [
        "# Or use `os.getenv('GOOGLE_API_KEY')` to fetch an environment variable.\n",
        "GOOGLE_API_KEY=userdata.get('API_KEY_GEMINI_FELIPE')\n",
        "genai.configure(api_key=GOOGLE_API_KEY)"
      ],
      "metadata": {
        "id": "z82fDNa0gtL9"
      },
      "execution_count": 40,
      "outputs": []
    },
    {
      "cell_type": "code",
      "source": [
        "model = genai.GenerativeModel('gemini-pro')"
      ],
      "metadata": {
        "id": "c9wxo5UEIQrz"
      },
      "execution_count": 41,
      "outputs": []
    },
    {
      "cell_type": "code",
      "source": [
        "generation_config = {\n",
        "    \"candidate_count\": 1,\n",
        "    \"temperature\": 0.5\n",
        "}"
      ],
      "metadata": {
        "id": "WXd9WjQlNIW8"
      },
      "execution_count": 43,
      "outputs": []
    },
    {
      "cell_type": "code",
      "source": [
        "safety_settings = {\n",
        "    \"HARASSMENT\": \"BLOCK_NONE\",\n",
        "    \"HATE\": \"BLOCK_NONE\",\n",
        "    \"SEXUAL\": \"BLOCK_NONE\",\n",
        "    \"DANGEROUS\": \"BLOCK_NONE\"\n",
        "}"
      ],
      "metadata": {
        "id": "VNlMqSDaNtEj"
      },
      "execution_count": 44,
      "outputs": []
    },
    {
      "cell_type": "markdown",
      "source": [
        "Importando modelo que vai ser usado e a configuração que vai ser usada"
      ],
      "metadata": {
        "id": "i7fjanTHPP0B"
      }
    },
    {
      "cell_type": "code",
      "source": [
        "model = genai.GenerativeModel(model_name=\"gemini-1.5-pro-latest\",\n",
        "                              generation_config=generation_config,\n",
        "                              safety_settings=safety_settings)"
      ],
      "metadata": {
        "id": "87WAF2LmOe0e"
      },
      "execution_count": 58,
      "outputs": []
    },
    {
      "cell_type": "code",
      "source": [
        "chat = model.start_chat(history=[])"
      ],
      "metadata": {
        "id": "jPP-nPaMPxJw"
      },
      "execution_count": 59,
      "outputs": []
    },
    {
      "cell_type": "code",
      "source": [
        "import datetime\n",
        "\n",
        "def obter_saudacao():\n",
        "  \"\"\"Retorna a saudação apropriada com base no horário atual.\"\"\"\n",
        "  agora = datetime.datetime.now()\n",
        "  hora = agora.hour\n",
        "\n",
        "  if hora >= 12 and hora < 18:\n",
        "    saudacao = \"Boa tarde\"\n",
        "  elif hora >= 18:\n",
        "    saudacao = \"Boa noite\"\n",
        "  else:\n",
        "    saudacao = \"Bom dia\"\n",
        "\n",
        "  return f\"{saudacao}!\"\n",
        "\n",
        "# Chamando a função em outra célula do Colab\n",
        "print(obter_saudacao())"
      ],
      "metadata": {
        "colab": {
          "base_uri": "https://localhost:8080/"
        },
        "id": "MhSAnDdWYPkE",
        "outputId": "c07aa4ea-6e0c-40d7-9804-2fe5bf53a936"
      },
      "execution_count": 60,
      "outputs": [
        {
          "output_type": "stream",
          "name": "stdout",
          "text": [
            "Boa noite!\n"
          ]
        }
      ]
    },
    {
      "cell_type": "code",
      "source": [
        "print(f\"{obter_saudacao()}, Meu objetivo é te apoiar a entender de forma simples seu sintoma e indicar referencias de podcast e videos sobre o assunto.\");\n",
        "sintoma = input(\"O que esta sentindo? \")\n",
        "nome = input(\"Deseja se identificar? \")\n",
        "sexo = input(\"Como você se identifica? \")\n",
        "idade = input(\"Qual sua Idade? \")\n",
        "cidade = input(\"Qual sua cidade? \")\n",
        "\n",
        "prompt = f\"Me chamo {nome}, me identifico como {sexo}, tenho {idade}, e moro em {cidade}, hoje estou sentindo, {sintoma}\"\n",
        "#prompt = input(\"Esperando prompt: \")\n",
        "print(prompt)\n",
        "#while prompt != \"fim\":\n",
        "prompt_1 = f\"{prompt}, usando as informações que passei, me retorne de forma simples, baseado em dados existentes um estudo que mostre quantas mulhers passam pelo mesmo sintoma que eu descrevi.\"\n",
        "prompt_2 = f\"De acordo com minha idade, quais podem ser as primeiras 3 causas das minhas dores?\"\n",
        "prompt_3 = \"Me retorne se existe algum dado que mostre que na minha cidade ou estado as mulheres sentem muito este sintoma.\"\n",
        "\n",
        "\n",
        "response_1 = chat.send_message(prompt_1)\n",
        "response_2 = chat.send_message(prompt_2)\n",
        "response_3 = chat.send_message(prompt_3)\n",
        "\n",
        "\n",
        "final_response = f\"{response_1.text}\\n\\n{response_2.text}\\n\\n{response_3.text}\"\n",
        "\n",
        "print(f\"Resposta: {final_response}\")\n",
        "\n"
      ],
      "metadata": {
        "colab": {
          "base_uri": "https://localhost:8080/"
        },
        "id": "HuTSQL42QIKk",
        "outputId": "163135f3-d04a-4adb-e210-46b6cb3cf7dc"
      },
      "execution_count": null,
      "outputs": [
        {
          "name": "stdout",
          "output_type": "stream",
          "text": [
            "Bom dia!, Meu objetivo é te apoiar a entender de forma simples seu sintoma e indicar referencias de podcast e videos sobre o assunto.\n",
            "O que esta sentindo? colica forte e dor de cabeça\n",
            "Deseja se identificar? Marta\n",
            "Como você se identifica? 33\n",
            "Qual sua Idade? 33\n",
            "Qual sua cidade? barretos\n"
          ]
        }
      ]
    },
    {
      "cell_type": "code",
      "source": [
        "for m in genai.list_models():\n",
        "  if 'generateContent' in m.supported_generation_methods:\n",
        "    print(m.name)"
      ],
      "metadata": {
        "colab": {
          "base_uri": "https://localhost:8080/",
          "height": 139
        },
        "id": "gwK-QLuihE6d",
        "outputId": "d438350f-4c63-4107-a609-84db7b9e6351"
      },
      "execution_count": 5,
      "outputs": [
        {
          "output_type": "stream",
          "name": "stdout",
          "text": [
            "models/gemini-1.0-pro\n",
            "models/gemini-1.0-pro-001\n",
            "models/gemini-1.0-pro-latest\n",
            "models/gemini-1.0-pro-vision-latest\n",
            "models/gemini-1.5-pro-latest\n",
            "models/gemini-pro\n",
            "models/gemini-pro-vision\n"
          ]
        }
      ]
    }
  ]
}