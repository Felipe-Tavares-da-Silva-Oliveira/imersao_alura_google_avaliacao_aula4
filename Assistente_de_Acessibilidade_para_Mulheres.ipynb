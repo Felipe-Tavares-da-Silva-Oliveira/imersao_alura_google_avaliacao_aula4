{
  "nbformat": 4,
  "nbformat_minor": 0,
  "metadata": {
    "colab": {
      "provenance": [],
      "authorship_tag": "ABX9TyOf5L/ju7h0h/l3i8FD8Ehs",
      "include_colab_link": true
    },
    "kernelspec": {
      "name": "python3",
      "display_name": "Python 3"
    },
    "language_info": {
      "name": "python"
    }
  },
  "cells": [
    {
      "cell_type": "markdown",
      "metadata": {
        "id": "view-in-github",
        "colab_type": "text"
      },
      "source": [
        "<a href=\"https://colab.research.google.com/github/Felipe-Tavares-da-Silva-Oliveira/imersao_alura_google_avaliacao_aula4/blob/main/Assistente_de_Acessibilidade_para_Mulheres.ipynb\" target=\"_parent\"><img src=\"https://colab.research.google.com/assets/colab-badge.svg\" alt=\"Open In Colab\"/></a>"
      ]
    },
    {
      "cell_type": "markdown",
      "source": [
        "Instalando o SDK do Google - GEMINI"
      ],
      "metadata": {
        "id": "LN13aMPgLXHG"
      }
    },
    {
      "cell_type": "code",
      "execution_count": 1,
      "metadata": {
        "id": "fG8gBV-vW_op"
      },
      "outputs": [],
      "source": [
        "!pip install -q -U google-generativeai"
      ]
    },
    {
      "cell_type": "code",
      "source": [
        "import pathlib\n",
        "import textwrap\n",
        "\n",
        "import google.generativeai as genai\n",
        "\n",
        "from IPython.display import display\n",
        "from IPython.display import Markdown\n",
        "\n",
        "\n",
        "def to_markdown(text):\n",
        "  text = text.replace('•', '  *')\n",
        "  return Markdown(textwrap.indent(text, '> ', predicate=lambda _: True))"
      ],
      "metadata": {
        "id": "rJwYNQSvXVk8"
      },
      "execution_count": 23,
      "outputs": []
    },
    {
      "cell_type": "code",
      "source": [
        "# Used to securely store your API key\n",
        "from google.colab import userdata"
      ],
      "metadata": {
        "id": "oFilD2s-gqiP"
      },
      "execution_count": 3,
      "outputs": []
    },
    {
      "cell_type": "code",
      "source": [
        "# Or use `os.getenv('GOOGLE_API_KEY')` to fetch an environment variable.\n",
        "GOOGLE_API_KEY=userdata.get('API_KEY_GEMINI_FELIPE')\n",
        "genai.configure(api_key=GOOGLE_API_KEY)"
      ],
      "metadata": {
        "id": "z82fDNa0gtL9"
      },
      "execution_count": 4,
      "outputs": []
    },
    {
      "cell_type": "code",
      "source": [
        "model = genai.GenerativeModel('gemini-pro')"
      ],
      "metadata": {
        "id": "c9wxo5UEIQrz"
      },
      "execution_count": 6,
      "outputs": []
    },
    {
      "cell_type": "code",
      "source": [
        "response = model.generate_content(\"o que faz um ginecologista\")\n",
        "print(response.text)"
      ],
      "metadata": {
        "id": "duzY0bDlJ0o1"
      },
      "execution_count": null,
      "outputs": []
    },
    {
      "cell_type": "code",
      "source": [
        "generation_config = {\n",
        "    \"candidate_count\": 1,\n",
        "    \"temperature\": 0.5\n",
        "}"
      ],
      "metadata": {
        "id": "WXd9WjQlNIW8"
      },
      "execution_count": 12,
      "outputs": []
    },
    {
      "cell_type": "code",
      "source": [
        "safety_settings = {\n",
        "    \"HARASSMENT\": \"BLOCK_NONE\",\n",
        "    \"HATE\": \"BLOCK_NONE\",\n",
        "    \"SEXUAL\": \"BLOCK_NONE\",\n",
        "    \"DANGEROUS\": \"BLOCK_NONE\"\n",
        "}"
      ],
      "metadata": {
        "id": "VNlMqSDaNtEj"
      },
      "execution_count": 14,
      "outputs": []
    },
    {
      "cell_type": "markdown",
      "source": [
        "Importando modelo que vai ser usado e a configuração que vai ser usada"
      ],
      "metadata": {
        "id": "i7fjanTHPP0B"
      }
    },
    {
      "cell_type": "code",
      "source": [
        "model = genai.GenerativeModel(model_name=\"gemini-1.0-pro\",\n",
        "                              generation_config=generation_config,\n",
        "                              safety_settings=safety_settings)"
      ],
      "metadata": {
        "id": "87WAF2LmOe0e"
      },
      "execution_count": 15,
      "outputs": []
    },
    {
      "cell_type": "code",
      "source": [
        "chat = model.start_chat(history=[])"
      ],
      "metadata": {
        "id": "jPP-nPaMPxJw"
      },
      "execution_count": 17,
      "outputs": []
    },
    {
      "cell_type": "code",
      "source": [
        "import datetime\n",
        "\n",
        "def obter_saudacao():\n",
        "  \"\"\"Retorna a saudação apropriada com base no horário atual.\"\"\"\n",
        "  agora = datetime.datetime.now()\n",
        "  hora = agora.hour\n",
        "\n",
        "  if hora >= 12 and hora < 18:\n",
        "    saudacao = \"Boa tarde\"\n",
        "  elif hora >= 18:\n",
        "    saudacao = \"Boa noite\"\n",
        "  else:\n",
        "    saudacao = \"Bom dia\"\n",
        "\n",
        "  return f\"{saudacao}!\"\n",
        "\n",
        "# Chamando a função em outra célula do Colab\n",
        "print(obter_saudacao())"
      ],
      "metadata": {
        "colab": {
          "base_uri": "https://localhost:8080/"
        },
        "id": "MhSAnDdWYPkE",
        "outputId": "97d0c4a3-69bb-41de-c049-39af90b0ce0c"
      },
      "execution_count": 32,
      "outputs": [
        {
          "output_type": "stream",
          "name": "stdout",
          "text": [
            "Boa noite!\n"
          ]
        }
      ]
    },
    {
      "cell_type": "code",
      "source": [
        "print(f\"{obter_saudacao()}, Meu objetivo é te apoiar a entender de forma simples seu sintoma e indicar referencias de podcast e videos sobre o assunto.\")\n",
        "nome = input(\"Deseja se identificar? \")\n",
        "sexo = input(\"Como você se identifica? \")\n",
        "idade = input(\"Qual sua Idade? \")\n",
        "cidade = input(\"Qual sua cidade?\")\n",
        "\n",
        "prompt = f\"Me chamo {nome}, me identifico como {sexo}, tenho {idade}, e moro em {cidade}\"\n",
        "#prompt = input(\"Esperando prompt: \")\n",
        "\n",
        "while prompt != \"fim\":\n",
        "  response = chat.send_message(\"você é um ginecologista e deve analisar indicar a possivel causa de um problema mais grave e recomendar, podcast e videos para que a mulher entenda melhor seus sintomas\" + prompt)\n",
        "  print(\"Rsposta: \", response.text, \"\\n\")\n",
        "  prompt = input(\"Esperando prompt: \")"
      ],
      "metadata": {
        "colab": {
          "base_uri": "https://localhost:8080/",
          "height": 391
        },
        "id": "HuTSQL42QIKk",
        "outputId": "0c0b71a8-6ee2-4bfd-bdba-8823342ab7c2"
      },
      "execution_count": 34,
      "outputs": [
        {
          "output_type": "stream",
          "name": "stdout",
          "text": [
            "Boa noite!, Meu objetivo é te apoiar a entender de forma simples seu sintoma e indicar referencias de podcast e videos sobre o assunto\n"
          ]
        },
        {
          "output_type": "error",
          "ename": "KeyboardInterrupt",
          "evalue": "Interrupted by user",
          "traceback": [
            "\u001b[0;31m---------------------------------------------------------------------------\u001b[0m",
            "\u001b[0;31mKeyboardInterrupt\u001b[0m                         Traceback (most recent call last)",
            "\u001b[0;32m<ipython-input-34-f978c676d929>\u001b[0m in \u001b[0;36m<cell line: 2>\u001b[0;34m()\u001b[0m\n\u001b[1;32m      1\u001b[0m \u001b[0mprint\u001b[0m\u001b[0;34m(\u001b[0m\u001b[0;34mf\"{obter_saudacao()}, Meu objetivo é te apoiar a entender de forma simples seu sintoma e indicar referencias de podcast e videos sobre o assunto\"\u001b[0m\u001b[0;34m)\u001b[0m\u001b[0;34m\u001b[0m\u001b[0;34m\u001b[0m\u001b[0m\n\u001b[0;32m----> 2\u001b[0;31m \u001b[0mnome\u001b[0m \u001b[0;34m=\u001b[0m \u001b[0minput\u001b[0m\u001b[0;34m(\u001b[0m\u001b[0;34m\"Deseja se identificar? \"\u001b[0m\u001b[0;34m)\u001b[0m\u001b[0;34m\u001b[0m\u001b[0;34m\u001b[0m\u001b[0m\n\u001b[0m\u001b[1;32m      3\u001b[0m \u001b[0msexo\u001b[0m \u001b[0;34m=\u001b[0m \u001b[0minput\u001b[0m\u001b[0;34m(\u001b[0m\u001b[0;34m\"Como você se identifica? \"\u001b[0m\u001b[0;34m)\u001b[0m\u001b[0;34m\u001b[0m\u001b[0;34m\u001b[0m\u001b[0m\n\u001b[1;32m      4\u001b[0m \u001b[0midade\u001b[0m \u001b[0;34m=\u001b[0m \u001b[0minput\u001b[0m\u001b[0;34m(\u001b[0m\u001b[0;34m\"Qual sua Idade? \"\u001b[0m\u001b[0;34m)\u001b[0m\u001b[0;34m\u001b[0m\u001b[0;34m\u001b[0m\u001b[0m\n\u001b[1;32m      5\u001b[0m \u001b[0mcidade\u001b[0m \u001b[0;34m=\u001b[0m \u001b[0minput\u001b[0m\u001b[0;34m(\u001b[0m\u001b[0;34m\"Qual sua cidade?\"\u001b[0m\u001b[0;34m)\u001b[0m\u001b[0;34m\u001b[0m\u001b[0;34m\u001b[0m\u001b[0m\n",
            "\u001b[0;32m/usr/local/lib/python3.10/dist-packages/ipykernel/kernelbase.py\u001b[0m in \u001b[0;36mraw_input\u001b[0;34m(self, prompt)\u001b[0m\n\u001b[1;32m    849\u001b[0m                 \u001b[0;34m\"raw_input was called, but this frontend does not support input requests.\"\u001b[0m\u001b[0;34m\u001b[0m\u001b[0;34m\u001b[0m\u001b[0m\n\u001b[1;32m    850\u001b[0m             )\n\u001b[0;32m--> 851\u001b[0;31m         return self._input_request(str(prompt),\n\u001b[0m\u001b[1;32m    852\u001b[0m             \u001b[0mself\u001b[0m\u001b[0;34m.\u001b[0m\u001b[0m_parent_ident\u001b[0m\u001b[0;34m,\u001b[0m\u001b[0;34m\u001b[0m\u001b[0;34m\u001b[0m\u001b[0m\n\u001b[1;32m    853\u001b[0m             \u001b[0mself\u001b[0m\u001b[0;34m.\u001b[0m\u001b[0m_parent_header\u001b[0m\u001b[0;34m,\u001b[0m\u001b[0;34m\u001b[0m\u001b[0;34m\u001b[0m\u001b[0m\n",
            "\u001b[0;32m/usr/local/lib/python3.10/dist-packages/ipykernel/kernelbase.py\u001b[0m in \u001b[0;36m_input_request\u001b[0;34m(self, prompt, ident, parent, password)\u001b[0m\n\u001b[1;32m    893\u001b[0m             \u001b[0;32mexcept\u001b[0m \u001b[0mKeyboardInterrupt\u001b[0m\u001b[0;34m:\u001b[0m\u001b[0;34m\u001b[0m\u001b[0;34m\u001b[0m\u001b[0m\n\u001b[1;32m    894\u001b[0m                 \u001b[0;31m# re-raise KeyboardInterrupt, to truncate traceback\u001b[0m\u001b[0;34m\u001b[0m\u001b[0;34m\u001b[0m\u001b[0m\n\u001b[0;32m--> 895\u001b[0;31m                 \u001b[0;32mraise\u001b[0m \u001b[0mKeyboardInterrupt\u001b[0m\u001b[0;34m(\u001b[0m\u001b[0;34m\"Interrupted by user\"\u001b[0m\u001b[0;34m)\u001b[0m \u001b[0;32mfrom\u001b[0m \u001b[0;32mNone\u001b[0m\u001b[0;34m\u001b[0m\u001b[0;34m\u001b[0m\u001b[0m\n\u001b[0m\u001b[1;32m    896\u001b[0m             \u001b[0;32mexcept\u001b[0m \u001b[0mException\u001b[0m \u001b[0;32mas\u001b[0m \u001b[0me\u001b[0m\u001b[0;34m:\u001b[0m\u001b[0;34m\u001b[0m\u001b[0;34m\u001b[0m\u001b[0m\n\u001b[1;32m    897\u001b[0m                 \u001b[0mself\u001b[0m\u001b[0;34m.\u001b[0m\u001b[0mlog\u001b[0m\u001b[0;34m.\u001b[0m\u001b[0mwarning\u001b[0m\u001b[0;34m(\u001b[0m\u001b[0;34m\"Invalid Message:\"\u001b[0m\u001b[0;34m,\u001b[0m \u001b[0mexc_info\u001b[0m\u001b[0;34m=\u001b[0m\u001b[0;32mTrue\u001b[0m\u001b[0;34m)\u001b[0m\u001b[0;34m\u001b[0m\u001b[0;34m\u001b[0m\u001b[0m\n",
            "\u001b[0;31mKeyboardInterrupt\u001b[0m: Interrupted by user"
          ]
        }
      ]
    },
    {
      "cell_type": "code",
      "source": [
        "#Melhorando a visualização\n",
        "#Código disponível em https://ai.google.dev/tutorials/python_quickstart#import_packages\n",
        "import textwrap\n",
        "from IPython.display import display\n",
        "from IPython.display import Markdown\n",
        "\n",
        "def to_markdown(text):\n",
        "  text = text.replace('•', '  *')\n",
        "  return Markdown(textwrap.indent(text, '> ', predicate=lambda _: True))\n",
        "\n",
        "#Imprimindo o histórico\n",
        "for message in chat.history:\n",
        "  display(to_markdown(f'**{message.role}**: {message.parts[0].text}'))\n",
        "  print('-------------------------------------------')"
      ],
      "metadata": {
        "colab": {
          "base_uri": "https://localhost:8080/",
          "height": 1000
        },
        "id": "HO3YLnyrSbjI",
        "outputId": "f106c763-0d8e-41d0-ac4d-c5a3f61f61c2"
      },
      "execution_count": 21,
      "outputs": [
        {
          "output_type": "display_data",
          "data": {
            "text/plain": [
              "<IPython.core.display.Markdown object>"
            ],
            "text/markdown": "> **user**: sou mulher"
          },
          "metadata": {}
        },
        {
          "output_type": "stream",
          "name": "stdout",
          "text": [
            "-------------------------------------------\n"
          ]
        },
        {
          "output_type": "display_data",
          "data": {
            "text/plain": [
              "<IPython.core.display.Markdown object>"
            ],
            "text/markdown": "> **model**: Entendo que você se identifique como mulher. É importante respeitar e reconhecer a identidade de gênero de cada pessoa."
          },
          "metadata": {}
        },
        {
          "output_type": "stream",
          "name": "stdout",
          "text": [
            "-------------------------------------------\n"
          ]
        },
        {
          "output_type": "display_data",
          "data": {
            "text/plain": [
              "<IPython.core.display.Markdown object>"
            ],
            "text/markdown": "> **user**: estou sentindo dores fortes de colica"
          },
          "metadata": {}
        },
        {
          "output_type": "stream",
          "name": "stdout",
          "text": [
            "-------------------------------------------\n"
          ]
        },
        {
          "output_type": "display_data",
          "data": {
            "text/plain": [
              "<IPython.core.display.Markdown object>"
            ],
            "text/markdown": "> **model**: Entendo que você esteja sentindo fortes dores de cólica. Isso pode ser muito desconfortável e doloroso. Aqui estão algumas dicas que podem ajudar a aliviar a dor:\n> \n> * **Aplique calor:** Use uma bolsa de água quente ou uma almofada térmica na parte inferior do abdômen. O calor pode ajudar a relaxar os músculos e reduzir a dor.\n> * **Tome um banho quente:** Um banho quente pode ajudar a relaxar os músculos e aliviar a dor.\n> * **Massageie suavemente:** Massageie suavemente a parte inferior do abdômen em movimentos circulares. Isso pode ajudar a aliviar a tensão e a dor.\n> * **Faça exercícios leves:** Exercícios leves, como caminhar ou nadar, podem ajudar a liberar endorfinas, que têm propriedades analgésicas.\n> * **Tome medicamentos para dor:** Se as outras medidas não aliviarem a dor, você pode tomar medicamentos para dor de venda livre, como ibuprofeno ou paracetamol.\n> \n> Se a dor for intensa ou não melhorar com medidas caseiras, é importante consultar um médico para descartar quaisquer problemas médicos subjacentes."
          },
          "metadata": {}
        },
        {
          "output_type": "stream",
          "name": "stdout",
          "text": [
            "-------------------------------------------\n"
          ]
        },
        {
          "output_type": "display_data",
          "data": {
            "text/plain": [
              "<IPython.core.display.Markdown object>"
            ],
            "text/markdown": "> **user**: como vou saber se é endometriose"
          },
          "metadata": {}
        },
        {
          "output_type": "stream",
          "name": "stdout",
          "text": [
            "-------------------------------------------\n"
          ]
        },
        {
          "output_type": "display_data",
          "data": {
            "text/plain": [
              "<IPython.core.display.Markdown object>"
            ],
            "text/markdown": "> **model**: Os sintomas da endometriose podem variar de mulher para mulher, mas alguns dos sintomas comuns incluem:\n> \n> * **Dor pélvica:** Dor intensa durante ou antes da menstruação, que pode piorar com o tempo.\n> * **Sangramento menstrual intenso ou irregular:** Menstruações abundantes ou períodos que duram mais de sete dias.\n> * **Dor durante ou após a relação sexual:** Sexo doloroso ou desconforto durante ou após a relação sexual.\n> * **Dor ao urinar ou evacuar:** Dor ou desconforto ao urinar ou evacuar, especialmente durante a menstruação.\n> * **Infertilidade:** Dificuldade em engravidar.\n> * **Outros sintomas:** Fadiga, náuseas, vômitos, diarreia ou constipação durante a menstruação.\n> \n> É importante observar que nem todas as mulheres com endometriose apresentam todos esses sintomas. Além disso, outras condições podem causar sintomas semelhantes, por isso é importante consultar um médico para um diagnóstico preciso.\n> \n> Para diagnosticar a endometriose, o médico geralmente realiza um exame pélvico e uma ultrassonografia transvaginal. Em alguns casos, uma laparoscopia pode ser necessária para confirmar o diagnóstico. A laparoscopia é um procedimento cirúrgico minimamente invasivo que permite ao médico visualizar diretamente os órgãos pélvicos e procurar sinais de endometriose.\n> \n> Se você estiver apresentando algum dos sintomas mencionados acima, é importante consultar um médico para descartar a endometriose e outras possíveis causas. O diagnóstico e o tratamento precoces podem ajudar a controlar os sintomas e melhorar a qualidade de vida."
          },
          "metadata": {}
        },
        {
          "output_type": "stream",
          "name": "stdout",
          "text": [
            "-------------------------------------------\n"
          ]
        },
        {
          "output_type": "display_data",
          "data": {
            "text/plain": [
              "<IPython.core.display.Markdown object>"
            ],
            "text/markdown": "> **user**: sim"
          },
          "metadata": {}
        },
        {
          "output_type": "stream",
          "name": "stdout",
          "text": [
            "-------------------------------------------\n"
          ]
        },
        {
          "output_type": "display_data",
          "data": {
            "text/plain": [
              "<IPython.core.display.Markdown object>"
            ],
            "text/markdown": "> **model**: Entendo que você esteja passando por uma situação difícil. É importante lembrar que você não está sozinha e que há ajuda disponível. Aqui estão alguns recursos que podem ser úteis:\n> \n> * **Linha Direta Nacional de Violência Sexual:** 1-800-656-HOPE\n> * **Rede Nacional de Estupro, Abuso e Incesto (RAINN):** 1-800-656-HOPE Você também pode obter ajuda online no site da RAINN: https://www.rainn.org\n> * **The Hotline:** 1-800-799-SAFE Você também pode obter ajuda online no site do The Hotline: https://www.thehotline.org\n> * **Rede Nacional de Violência Doméstica:** 1-800-799-SAFE Você também pode obter ajuda online no site da Rede Nacional de Violência Doméstica: https://www.thehotline.org\n> \n> Esses recursos oferecem apoio confidencial e gratuito 24 horas por dia, 7 dias por semana. Eles podem fornecer informações, encaminhamentos e apoio emocional.\n> \n> Também é importante lembrar que você não tem culpa pelo que aconteceu. Você merece ser tratada com respeito e dignidade. Não tenha medo de pedir ajuda. Há pessoas que se preocupam com você e querem ajudar."
          },
          "metadata": {}
        },
        {
          "output_type": "stream",
          "name": "stdout",
          "text": [
            "-------------------------------------------\n"
          ]
        }
      ]
    },
    {
      "cell_type": "code",
      "source": [
        "response = model.generate_content(\"o que é endometriose\")\n",
        "print(response.text)"
      ],
      "metadata": {
        "id": "2cgnrJvcPiMb"
      },
      "execution_count": null,
      "outputs": []
    },
    {
      "cell_type": "code",
      "source": [
        "for m in genai.list_models():\n",
        "  if 'generateContent' in m.supported_generation_methods:\n",
        "    print(m.name)"
      ],
      "metadata": {
        "colab": {
          "base_uri": "https://localhost:8080/",
          "height": 139
        },
        "id": "gwK-QLuihE6d",
        "outputId": "d438350f-4c63-4107-a609-84db7b9e6351"
      },
      "execution_count": 5,
      "outputs": [
        {
          "output_type": "stream",
          "name": "stdout",
          "text": [
            "models/gemini-1.0-pro\n",
            "models/gemini-1.0-pro-001\n",
            "models/gemini-1.0-pro-latest\n",
            "models/gemini-1.0-pro-vision-latest\n",
            "models/gemini-1.5-pro-latest\n",
            "models/gemini-pro\n",
            "models/gemini-pro-vision\n"
          ]
        }
      ]
    }
  ]
}